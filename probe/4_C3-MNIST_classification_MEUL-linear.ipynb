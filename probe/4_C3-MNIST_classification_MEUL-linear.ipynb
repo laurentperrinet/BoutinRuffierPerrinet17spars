{
 "cells": [
  {
   "cell_type": "code",
   "execution_count": 1,
   "metadata": {
    "collapsed": true,
    "deletable": true,
    "editable": true
   },
   "outputs": [],
   "source": [
    "%load_ext autoreload\n",
    "%autoreload 2\n",
    "\n",
    "import matplotlib.pyplot as plt\n",
    "%matplotlib inline\n",
    "#%config InlineBackend.figure_format='svg'\n",
    "\n",
    "import numpy as np\n",
    "np.set_printoptions(precision=6, suppress=True)\n",
    "np.set_printoptions(threshold=np.inf)\n",
    "\n",
    "from shl_scripts.shl_experiments import SHL\n",
    "from classification import SparseClassif\n"
   ]
  },
  {
   "cell_type": "code",
   "execution_count": null,
   "metadata": {
    "collapsed": true,
    "deletable": true,
    "editable": true
   },
   "outputs": [],
   "source": [
    "tag ='2017-06-01_MNIST_MEUL_DEBUG_'\n",
    "DEBUG_DOWNSCALE, verbose = 10, 10\n",
    "tag ='2017-06-01_MNIST_MEUL_'\n",
    "DEBUG_DOWNSCALE, verbose = 1, 10\n",
    "patch_size = (28,28)\n",
    "n_dictionary = 15**2\n",
    "l0_sparseness = 7\n",
    "n_iter = 2**14\n",
    "eta = 0.01\n",
    "eta_homeo = 0.01\n",
    "alpha_homeo = 0\n",
    "verbose = 0\n",
    "list_figures=['show_dico']\n",
    "n_hidden = 100"
   ]
  },
  {
   "cell_type": "code",
   "execution_count": null,
   "metadata": {
    "collapsed": false,
    "deletable": true,
    "editable": true,
    "scrolled": false
   },
   "outputs": [
    {
     "name": "stdout",
     "output_type": "stream",
     "text": [
      " ----- learning for the dico of size : 144 -----\n"
     ]
    }
   ],
   "source": [
    "results = []\n",
    "n_dictionarys = np.arange(12, 30, 3)**2\n",
    "for n_dictionary_ in n_dictionarys:\n",
    "    shl = SHL(DEBUG_DOWNSCALE=DEBUG_DOWNSCALE, \n",
    "                eta = eta, eta_homeo = eta_homeo, verbose = verbose, \n",
    "                n_iter = n_iter, patch_size = patch_size, l0_sparseness=l0_sparseness, alpha_homeo = alpha_homeo,\n",
    "                n_dictionary = n_dictionary_) \n",
    "    matname = tag + 'n_dictionary' + str(n_dictionary_)\n",
    "    \n",
    "    sc = SparseClassif(shl, matname, do_linear=True)\n",
    "    print(\" ----- learning for the dico of size : {0} -----\".format(n_dictionary_))\n",
    "    sc.dico = shl.learn_dico(data=sc.training_image, matname=matname, list_figures=list_figures)       \n",
    "    sc.learn()\n",
    "    results.append(sc.result())\n",
    "\n",
    "fig = plt.figure(figsize=(6, 4))\n",
    "ax = fig.add_subplot(111)\n",
    "ax.plot(n_dictionarys, results)    "
   ]
  },
  {
   "cell_type": "code",
   "execution_count": null,
   "metadata": {
    "collapsed": false,
    "deletable": true,
    "editable": true,
    "scrolled": false
   },
   "outputs": [],
   "source": [
    "results = []\n",
    "l0_sparsenesses =  np.arange(5, 40, 5)\n",
    "\n",
    "for l0_sparseness_ in l0_sparsenesses:\n",
    "    shl = SHL(DEBUG_DOWNSCALE=DEBUG_DOWNSCALE, \n",
    "                eta = eta, eta_homeo = eta_homeo, verbose = verbose, \n",
    "                n_iter = n_iter, patch_size = patch_size, l0_sparseness=l0_sparseness_, alpha_homeo = alpha_homeo,\n",
    "                n_dictionary = n_dictionary)     \n",
    "    sc = SparseClassif(shl, matname, do_linear=True)\n",
    "    matname = tag + 'l0_sparseness=' + str(l0_sparseness_)\n",
    "    sc.dico = shl.learn_dico(data=sc.training_image, matname=matname, list_figures=list_figures)       \n",
    "    sc.learn()\n",
    "    results.append(sc.result())\n",
    "\n",
    "fig = plt.figure(figsize=(6, 4))\n",
    "ax = fig.add_subplot(111)\n",
    "ax.plot(l0_sparsenesses, results)        "
   ]
  },
  {
   "cell_type": "code",
   "execution_count": null,
   "metadata": {
    "collapsed": true,
    "deletable": true,
    "editable": true
   },
   "outputs": [],
   "source": []
  }
 ],
 "metadata": {
  "kernelspec": {
   "display_name": "Python 3",
   "language": "python",
   "name": "python3"
  },
  "language_info": {
   "codemirror_mode": {
    "name": "ipython",
    "version": 3
   },
   "file_extension": ".py",
   "mimetype": "text/x-python",
   "name": "python",
   "nbconvert_exporter": "python",
   "pygments_lexer": "ipython3",
   "version": "3.6.1"
  }
 },
 "nbformat": 4,
 "nbformat_minor": 2
}
