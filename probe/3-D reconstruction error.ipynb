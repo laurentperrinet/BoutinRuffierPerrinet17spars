{
 "cells": [
  {
   "cell_type": "code",
   "execution_count": 1,
   "metadata": {
    "collapsed": true
   },
   "outputs": [],
   "source": [
    "import matplotlib.pyplot as plt\n",
    "%matplotlib inline\n",
    "#%config InlineBackend.figure_format='svg'\n",
    "import numpy as np\n",
    "#np.set_printoptions(precision=6, suppress=True)\n",
    "#np.set_printoptions(threshold=np.inf)\n",
    "#import pandas as pd\n",
    "#import seaborn as sns\n",
    "#import shl_scripts.shl_tools\n",
    "from shl_scripts.shl_experiments import SHL\n",
    "#from nengo.utils.ipython import hide_input\n",
    "import time\n",
    "#from shl_scripts.shl_encode import sparse_encode\n",
    "#from shl_scripts.shl_encode import mp\n",
    "%load_ext autoreload\n",
    "%autoreload 2\n",
    "from nengo.utils.ipython import hide_input\n",
    "import DNN.mnist_loader as data_loader\n",
    "import DNN.network as network\n",
    "from shl_scripts.shl_encode import sparse_encode\n",
    "import pandas as pd"
   ]
  },
  {
   "cell_type": "code",
   "execution_count": 2,
   "metadata": {
    "collapsed": true
   },
   "outputs": [],
   "source": [
    "def vectorized_result(j):\n",
    "    \"\"\"Return a 10-dimensional unit vector with a 1.0 in the jth\n",
    "    position and zeroes elsewhere.  This is used to convert a digit\n",
    "    (0...9) into a corresponding desired output from the neural\n",
    "    network.\"\"\"\n",
    "    e = np.zeros((10, 1))\n",
    "    e[j] = 1.0\n",
    "    return e"
   ]
  },
  {
   "cell_type": "markdown",
   "metadata": {},
   "source": [
    "## Loading MNIST in the good format for the unsupervised learning algorithm"
   ]
  },
  {
   "cell_type": "code",
   "execution_count": 3,
   "metadata": {
    "collapsed": true
   },
   "outputs": [],
   "source": [
    "training_data,validation_data,test_data=data_loader.load_data()"
   ]
  },
  {
   "cell_type": "code",
   "execution_count": 4,
   "metadata": {
    "collapsed": true
   },
   "outputs": [],
   "source": [
    "training_image=training_data[0]\n",
    "training_supervision=training_data[1]\n",
    "test_image=test_data[0]\n",
    "test_supervision=test_data[1]"
   ]
  },
  {
   "cell_type": "code",
   "execution_count": 5,
   "metadata": {},
   "outputs": [
    {
     "name": "stdout",
     "output_type": "stream",
     "text": [
      "(50000, 784)\n",
      "(50000,)\n"
     ]
    }
   ],
   "source": [
    "print(training_image.shape)\n",
    "print(training_supervision.shape)"
   ]
  },
  {
   "cell_type": "code",
   "execution_count": 6,
   "metadata": {},
   "outputs": [
    {
     "data": {
      "image/png": "[encoded data removed]",
      "text/plain": [
       "<matplotlib.figure.Figure at 0x114f665c0>"
      ]
     },
     "metadata": {},
     "output_type": "display_data"
    }
   ],
   "source": [
    "image1=training_image[0].reshape(28,28)\n",
    "plt.figure(figsize=(5, 5))\n",
    "ax3=plt.subplot(1,1,1)\n",
    "plt.imshow(image1,cmap='gray')\n",
    "plt.show()"
   ]
  },
  {
   "cell_type": "markdown",
   "metadata": {
    "collapsed": true
   },
   "source": [
    "## Learning Dictionaries from MNIST database"
   ]
  },
  {
   "cell_type": "code",
   "execution_count": null,
   "metadata": {
    "collapsed": true
   },
   "outputs": [],
   "source": [
    "DEBUG_DOWNSCALE,verbose= 1, 10\n",
    "patch_size, n_dictionary = (28,28), 30**2\n",
    "n_iter = 15000\n",
    "eta, eta_homeo = 0.01360, 0.01\n",
    "list_figures=['show_dico']"
   ]
  },
  {
   "cell_type": "markdown",
   "metadata": {},
   "source": [
    "### With a sparseness equal to 10 \n",
    "A sparseness equal to 10 means than only 1.1% are firing at the sametime (out of 900 neurons)"
   ]
  },
  {
   "cell_type": "code",
   "execution_count": null,
   "metadata": {},
   "outputs": [
    {
     "name": "stdout",
     "output_type": "stream",
     "text": [
      "No cache found /tmp/data_cache/MNIST_i=15000_l0=10_dico.pkl: Learning the dictionary with algo = mp \n",
      " Training on 50000 patches... Iteration   0 /   15000 (elapsed time:   0s,  0.0mn)\n",
      "Iteration  1501 /   15000 (elapsed time:  914s,  15.0mn)\n",
      "Iteration  3002 /   15000 (elapsed time:  2045s,  34.0mn)\n",
      "Iteration  4503 /   15000 (elapsed time:  3042s,  50.0mn)\n",
      "Iteration  6004 /   15000 (elapsed time:  3911s,  65.0mn)\n",
      "Iteration  7505 /   15000 (elapsed time:  4890s,  81.0mn)\n"
     ]
    }
   ],
   "source": [
    "l0_sparseness = 10\n",
    "shl_l0_10 = SHL(DEBUG_DOWNSCALE=DEBUG_DOWNSCALE, \n",
    "            eta=eta, alpha_homeo=0, eta_homeo=eta_homeo, verbose=verbose,\n",
    "            n_iter=n_iter, patch_size=patch_size, l0_sparseness=l0_sparseness,\n",
    "            n_dictionary=n_dictionary) #record_each=1000)\n",
    "dico_l0_10 = shl_l0_10.learn_dico(data=training_image,matname='MNIST_i=15000_l0=10',list_figures=list_figures)"
   ]
  },
  {
   "cell_type": "markdown",
   "metadata": {},
   "source": [
    "### With a sparseness equal to 45\n",
    "A sparseness equal to 45 means than only 5% are firing at the sametime (out of 900 neurons)"
   ]
  },
  {
   "cell_type": "code",
   "execution_count": null,
   "metadata": {},
   "outputs": [],
   "source": [
    "l0_sparseness = 45\n",
    "shl_l0_45 = SHL(DEBUG_DOWNSCALE=DEBUG_DOWNSCALE, \n",
    "            eta=eta, alpha_homeo=0, eta_homeo=eta_homeo, verbose=verbose,\n",
    "            n_iter=n_iter, patch_size=patch_size, l0_sparseness=l0_sparseness,\n",
    "            n_dictionary=n_dictionary) #record_each=1000)\n",
    "dico_l0_45 = shl_l0_45.learn_dico(data=training_image,matname='MNIST_i=30000_l0=45',list_figures=list_figures)"
   ]
  },
  {
   "cell_type": "markdown",
   "metadata": {},
   "source": [
    "### With a sparseness equal to 90\n",
    "A sparseness equal to 90 means than only 10% are firing at the sametime (out of 900 neurons)"
   ]
  },
  {
   "cell_type": "code",
   "execution_count": null,
   "metadata": {},
   "outputs": [],
   "source": [
    "l0_sparseness = 90\n",
    "shl_l0_90 = SHL(DEBUG_DOWNSCALE=DEBUG_DOWNSCALE, \n",
    "            eta=eta, alpha_homeo=0, eta_homeo=eta_homeo, verbose=verbose,\n",
    "            n_iter=n_iter, patch_size=patch_size, l0_sparseness=l0_sparseness,\n",
    "            n_dictionary=n_dictionary) #record_each=1000)\n",
    "dico_l0_90 = shl_l0_90.learn_dico(data=training_image,matname='MNIST_i=30000_l0=90',list_figures=list_figures)"
   ]
  },
  {
   "cell_type": "markdown",
   "metadata": {},
   "source": [
    "### Comparing classification performance on MNIST with different dictionary size, sparseness and algorithm"
   ]
  },
  {
   "cell_type": "markdown",
   "metadata": {},
   "source": [
    "We compared 3 sparse coding algorithm for classification on MNIST. For each algorithm wa tested different dictionary size and different sparseness.\n",
    "Calculation file for Pcum is : '2017-27-04-MNIST_classification_with Pcum'\n",
    "Calculation file for Comp is :\n",
    "Calculation file for MP is :\n",
    "\n",
    "Below is a concatenated table with the recognition accuracy : \n"
   ]
  },
  {
   "cell_type": "code",
   "execution_count": null,
   "metadata": {
    "collapsed": true
   },
   "outputs": [],
   "source": [
    "dico_size=[144,225,324,441,576,729]\n",
    "#Sparsness=10  with othogonal matching pursuit : Optimization file 4, Optimization 4\n",
    "data1={'Accuracy Pcum' : [0.8988,0.7589,0.6797,0.6151,0.5395,0.5278],\n",
    "        'Accuracy Comp' : [0.9236,0.9179,0.9169,0.9102,0.9122,0.9184],\n",
    "        'Accuracy MP' : [0.9323,0.9211,0.9211,0.9194,0.9203,0.9208]}\n",
    "'''\n",
    "#Sparsness=20 with othogonal matching pursuit : Optimization file 5, Optimization \n",
    "d23={'KL_homeo' : [25.909342683187461, 37.772497829013439, 61.806115927834625, 46.425709641610055, 45.555932954393164, 29.637075639528085, 40.785854693732631, 56.08181948336513, 56.582501195192926, 61.957147465366347],\n",
    "   'RMSE_homeo' : [1.4748618563609477, 1.2536011566127807, 1.1286341662721686, 1.1072972665649163, 1.0721205817716413, 1.02588768881601, 0.9913529445485969, 0.9766691914817276, 0.9861283817591897, 1.0202304063771397]}\n",
    "\n",
    "#Sparsness=30 with othogonal matching pursuit : Optimization file 6, Optimization \n",
    "d24={'KL_homeo' : [37.388409440662379, 44.106393179436708, 69.614964839313302, 93.95291455640978, 137.93862712328877, 81.369145588276126, 69.751210396572944, 0.016983252420413979, 4.4665471517815201, 92.283773955186163],\n",
    "   'RMSE_homeo' : [1.1685779126444342, 0.9760504369538927, 0.8350570479955792, 0.803656790015909, 0.7996565550840187, 0.7755211763620165, 0.7488473506339464, 1.5710557489874117, 0.9045342612532506, 0.7418076979000451]}\n",
    "'''\n",
    "\n",
    "nb_dic=pd.DataFrame(data1,index=dico_size)\n",
    "nb_dic.index.name='dico size'\n",
    "\n",
    "sparseness=[5,10,15,20,25,30,35]\n",
    "data2={'Accuracy Pcum' : [0.8974,0.8302,0.7665,0.6832,0.6996,0.7361,0.7652],\n",
    "        'Accuracy Comp' : [0.9119,0.9185,0.9193,0.9145,0.9168,0.9135,0.9186],\n",
    "        'Accuracy MP' : [0.8204,0.8378,0.9274,0.9229,0.9253,0.9139,0]}\n",
    "\n",
    "nb_l0=pd.DataFrame(data2,index=sparseness)\n",
    "nb_l0.index.name='dico sparseness'\n",
    "\n",
    "hide_input()"
   ]
  },
  {
   "cell_type": "markdown",
   "metadata": {},
   "source": [
    "#### Different size of dictionary with a defined sparseness of 10. The number of iteration is 2^14 (=16384)"
   ]
  },
  {
   "cell_type": "code",
   "execution_count": null,
   "metadata": {
    "collapsed": true
   },
   "outputs": [],
   "source": [
    "\n",
    "print(nb_dic)\n",
    "hide_input()"
   ]
  },
  {
   "cell_type": "markdown",
   "metadata": {},
   "source": [
    "#### Different sparseness with a defined size of dico of 256 The number of iteration is 2^14 (=16384)"
   ]
  },
  {
   "cell_type": "code",
   "execution_count": null,
   "metadata": {
    "collapsed": true
   },
   "outputs": [],
   "source": [
    "# nb dictionary=256\n",
    "print(nb_l0)\n",
    "hide_input()"
   ]
  },
  {
   "cell_type": "markdown",
   "metadata": {},
   "source": [
    "### Comparing reconstruction error on MNIST with different dictionary size, sparseness and algorithm"
   ]
  },
  {
   "cell_type": "code",
   "execution_count": null,
   "metadata": {
    "collapsed": true
   },
   "outputs": [],
   "source": [
    "dico_size=[16,25,36,49,64,81,100,144,169,196,225,256,289]\n",
    "\n",
    "dataL0_5={'Error Pcum' : [0.1973,0.1654,0.1549,0.1512,0.1457,0.1463,0.1424,0.1367,0.1362,0.1363,0.1392,0.1412,0.1438],\n",
    "        'Error MP' : [0.2133,0.1614,0.1524,0.1550,0.1517,0.1570,0.1562,0.1607,0.1599,0.1643,0.1659,0.1673,0.1621],\n",
    "        'Error Comp' : [0.1970,0.1591,0.1510,0.1481,0.1498,0.1484,0.1538,0.1564,0.1593,0.1590,0.1596,0.1598,0.1641]}\n",
    "\n",
    "\n",
    "\n",
    "data_L0_5=pd.DataFrame(dataL0_5,index=dico_size)\n",
    "data_L0_5.index.name='dico size'\n",
    "\n",
    "dataL0_10={'Error Pcum' : [0.1994,0.1984,0.1427,0.1371,0.1329,0.1308,0.1268,0.1149,0.1219,0.1206,0.1214,0.1227,0.1256],\n",
    "        'Error MP' : [0.2126,0.1810,0.1446,0.1361,0.1373,0.1398,0.1405,0.1296,0.1430,0.1436,0.1450,0.1443,0.1441],\n",
    "        'Error Comp' : [0.2147,0.1941,0.1425,0.1370,0.1339,0.1355,0.1357,0.1373,0.1377,0.1370,0.1399,0.1408,0.1423]}\n",
    "\n",
    "\n",
    "data_L0_10=pd.DataFrame(dataL0_10,index=dico_size)\n",
    "data_L0_10.index.name='dico size'\n",
    "\n",
    "dataL0_15={'Error Pcum' : [0.2045,0.1700,0.1567,0.1299,0.1265,0.1224,0.1180,0.1143,0.1131,0.1136,0.1121,0.1131,0.1169],\n",
    "        'Error MP' : [0.2013,0.1915,0.1797,0.1300,0.1256,0.1273,0.1276,0.1288,0.1287,0.1300,0.1331,0.1324,0.1322],\n",
    "        'Error Comp' : [0.2097,0.1787,0.1581,0.1292,0.1245,0.1226,0.1240,0.1242,0.1247,0.1262,0.1276,0.1277,0.1268]}\n",
    "data_L0_15=pd.DataFrame(dataL0_15,index=dico_size)\n",
    "data_L0_15.index.name='dico size'\n",
    "\n",
    "hide_input()"
   ]
  },
  {
   "cell_type": "markdown",
   "metadata": {},
   "source": [
    "#### Recontruction error on MNIST Dataset, after 2000 iteration, and with a L0=5"
   ]
  },
  {
   "cell_type": "code",
   "execution_count": null,
   "metadata": {
    "collapsed": true
   },
   "outputs": [],
   "source": [
    "print(data_L0_5)\n",
    "data_L0_5.plot()"
   ]
  },
  {
   "cell_type": "markdown",
   "metadata": {},
   "source": [
    "#### Recontruction error on MNIST Dataset, after 2000 iteration, and with a L0=10"
   ]
  },
  {
   "cell_type": "code",
   "execution_count": null,
   "metadata": {
    "collapsed": true
   },
   "outputs": [],
   "source": [
    "print(data_L0_10)\n",
    "data_L0_10.plot()"
   ]
  },
  {
   "cell_type": "markdown",
   "metadata": {},
   "source": [
    "#### Recontruction error on MNIST Dataset, after 2000 iteration, and with a L0=15"
   ]
  },
  {
   "cell_type": "code",
   "execution_count": null,
   "metadata": {
    "collapsed": true
   },
   "outputs": [],
   "source": [
    "print(data_L0_15)\n",
    "data_L0_15.plot()"
   ]
  },
  {
   "cell_type": "markdown",
   "metadata": {},
   "source": [
    "### Plotting the error evolution with iteration"
   ]
  },
  {
   "cell_type": "markdown",
   "metadata": {},
   "source": [
    "The following curve is obtain with 10000 iteration, with a sparseness equal to 5, on 144 dictionary"
   ]
  },
  {
   "cell_type": "code",
   "execution_count": null,
   "metadata": {
    "collapsed": true,
    "scrolled": false
   },
   "outputs": [],
   "source": [
    "list_figures=['show_dico']\n",
    "shl_Pcum = SHL(DEBUG_DOWNSCALE=1, \n",
    "                eta=0.01, eta_homeo=0.01, verbose=0,\n",
    "                n_iter=10000, patch_size=(28,28), alpha_homeo = 0,\n",
    "                n_dictionary=144, record_each=50,l0_sparseness=5)\n",
    "dico_Pcum = shl_Pcum.learn_dico(data=training_image,matname='2017-04-28 MNIST_Pcum_144dico_l0=5_iter=10000',list_figures=list_figures)\n",
    "\n",
    "shl_Comp = SHL(DEBUG_DOWNSCALE=1, \n",
    "                eta=0.01, eta_homeo=0.01, verbose=0,\n",
    "                n_iter=10000, patch_size=(28,28), alpha_homeo = 0.02,\n",
    "                n_dictionary=144, record_each=50,l0_sparseness=5)\n",
    "dico_Comp = shl_Comp.learn_dico(data=training_image,matname='2017-04-28 MNIST_COMP144_dico_l0=5_iter=1000',list_figures=list_figures)\n",
    "\n",
    "shl_MP = SHL(DEBUG_DOWNSCALE=1, \n",
    "                eta=0.01, eta_homeo=0, verbose=0,\n",
    "                n_iter=10000, patch_size=(28,28), alpha_homeo = 0,\n",
    "                n_dictionary=144, record_each=50,l0_sparseness=5)\n",
    "dico_MP = shl_MP.learn_dico(data=training_image,matname='2017-04-28 MNIST_MP 144dico_l0=5_iter=10000',list_figures=list_figures)\n",
    "\n"
   ]
  },
  {
   "cell_type": "code",
   "execution_count": null,
   "metadata": {
    "collapsed": true
   },
   "outputs": [],
   "source": [
    "type(dico_Pcum.record['error'])"
   ]
  },
  {
   "cell_type": "code",
   "execution_count": null,
   "metadata": {
    "collapsed": true
   },
   "outputs": [],
   "source": [
    "index=np.arange(0,10000,50)\n",
    "df1=pd.DataFrame()\n",
    "df1['MEUL']=dico_Pcum.record['error']\n",
    "df1['SN']=dico_Comp.record['error']\n",
    "df1['MP']=dico_MP.record['error']\n",
    "\n",
    "error=pd.DataFrame(df1,index=index)\n",
    "error.plot()"
   ]
  },
  {
   "cell_type": "markdown",
   "metadata": {},
   "source": [
    "The following curve is obtain with 10000 iteration, with a sparseness equal to 15, on 256 dictionary"
   ]
  },
  {
   "cell_type": "code",
   "execution_count": null,
   "metadata": {
    "collapsed": true,
    "scrolled": false
   },
   "outputs": [],
   "source": [
    "list_figures=['show_dico']\n",
    "shl_Pcum2 = SHL(DEBUG_DOWNSCALE=1, \n",
    "                eta=0.01, eta_homeo=0.01, verbose=0,\n",
    "                n_iter=10000, patch_size=(28,28), alpha_homeo = 0,\n",
    "                n_dictionary=256, record_each=50,l0_sparseness=15)\n",
    "dico_Pcum2 = shl_Pcum2.learn_dico(data=training_image,matname='2017-04-28 MNIST_Pcum_256dico_l0=15_iter=10000',list_figures=list_figures)\n",
    "\n",
    "shl_Comp2 = SHL(DEBUG_DOWNSCALE=1, \n",
    "                eta=0.01, eta_homeo=0.01, verbose=0,\n",
    "                n_iter=10000, patch_size=(28,28), alpha_homeo = 0.02,\n",
    "                n_dictionary=256, record_each=50,l0_sparseness=15)\n",
    "dico_Comp2 = shl_Comp2.learn_dico(data=training_image,matname='2017-04-28 MNIST_COMP256_dico_l0=15_iter=1000',list_figures=list_figures)\n",
    "\n",
    "shl_MP2 = SHL(DEBUG_DOWNSCALE=1, \n",
    "                eta=0.01, eta_homeo=0, verbose=0,\n",
    "                n_iter=10000, patch_size=(28,28), alpha_homeo = 0,\n",
    "                n_dictionary=256, record_each=50,l0_sparseness=15)\n",
    "dico_MP2 = shl_MP2.learn_dico(data=training_image,matname='2017-04-28 MNIST_MP 256dico_l0=15_iter=10000',list_figures=list_figures)\n",
    "\n"
   ]
  },
  {
   "cell_type": "code",
   "execution_count": null,
   "metadata": {
    "collapsed": true
   },
   "outputs": [],
   "source": [
    "index=np.arange(0,10000,50)\n",
    "df2=pd.DataFrame()\n",
    "df2['MEUL']=dico_Pcum2.record['error']\n",
    "df2['SN']=dico_Comp2.record['error']\n",
    "df2['MP']=dico_MP2.record['error']\n",
    "\n",
    "#error2=pd.DataFrame(df2,index=index)\n",
    "#error2.plot()\n",
    "a=df2.plot()\n",
    "a.set_ylim(0)"
   ]
  },
  {
   "cell_type": "markdown",
   "metadata": {},
   "source": [
    "The following curve is obtain with 10000 iteration, with a sparseness equal to 15, on 400 dictionary"
   ]
  },
  {
   "cell_type": "code",
   "execution_count": null,
   "metadata": {
    "collapsed": true,
    "scrolled": false
   },
   "outputs": [],
   "source": [
    "list_figures=['show_dico']\n",
    "shl_Pcum3 = SHL(DEBUG_DOWNSCALE=1, \n",
    "                eta=0.01, eta_homeo=0.01, verbose=0,\n",
    "                n_iter=10000, patch_size=(28,28), alpha_homeo = 0,\n",
    "                n_dictionary=400, record_each=50,l0_sparseness=15)\n",
    "dico_Pcum3 = shl_Pcum3.learn_dico(data=training_image,matname='2017-04-28 MNIST_Pcum_400dico_l0=15_iter=10000',list_figures=list_figures)\n",
    "\n",
    "shl_Comp3 = SHL(DEBUG_DOWNSCALE=1, \n",
    "                eta=0.01, eta_homeo=0.01, verbose=0,\n",
    "                n_iter=10000, patch_size=(28,28), alpha_homeo = 0.02,\n",
    "                n_dictionary=400, record_each=50,l0_sparseness=15)\n",
    "dico_Comp3 = shl_Comp3.learn_dico(data=training_image,matname='2017-04-28 MNIST_COMP400_dico_l0=15_iter=1000',list_figures=list_figures)\n",
    "\n",
    "shl_MP3 = SHL(DEBUG_DOWNSCALE=1, \n",
    "                eta=0.01, eta_homeo=0, verbose=0,\n",
    "                n_iter=10000, patch_size=(28,28), alpha_homeo = 0,\n",
    "                n_dictionary=400, record_each=50,l0_sparseness=15)\n",
    "dico_MP3 = shl_MP3.learn_dico(data=training_image,matname='2017-04-28 MNIST_MP 400dico_l0=15_iter=10000',list_figures=list_figures)"
   ]
  },
  {
   "cell_type": "code",
   "execution_count": null,
   "metadata": {
    "collapsed": true
   },
   "outputs": [],
   "source": [
    "index=np.arange(0,10000,50)\n",
    "df3=pd.DataFrame()\n",
    "df3['MEUL']=dico_Pcum3.record['error']\n",
    "df3['SN']=dico_Comp3.record['error']\n",
    "df3['MP']=dico_MP3.record['error']\n",
    "\n",
    "a=df3.plot()\n",
    "a.set_ylim(0)\n",
    "#error3=pd.DataFrame(df3,index=index)\n",
    "#error3.set_ylim(0)\n",
    "#error3.plot()"
   ]
  },
  {
   "cell_type": "markdown",
   "metadata": {},
   "source": [
    "The following curve is obtain with 10000 iteration, with a sparseness equal to 15, on 900 dictionary"
   ]
  },
  {
   "cell_type": "code",
   "execution_count": null,
   "metadata": {
    "collapsed": true,
    "scrolled": false
   },
   "outputs": [],
   "source": [
    "list_figures=['show_dico']\n",
    "\n",
    "shl_Pcum4 = SHL(DEBUG_DOWNSCALE=1, \n",
    "                eta=0.01, eta_homeo=0.01, verbose=0,\n",
    "                n_iter=10000, patch_size=(28,28), alpha_homeo = 0,\n",
    "                n_dictionary=900, record_each=50,l0_sparseness=15)\n",
    "dico_Pcum4 = shl_Pcum4.learn_dico(data=training_image,matname='2017-04-28 MNIST_Pcum_900dico_l0=15_iter=10000',list_figures=list_figures)\n",
    "\n",
    "shl_Comp4 = SHL(DEBUG_DOWNSCALE=1, \n",
    "                eta=0.01, eta_homeo=0.01, verbose=0,\n",
    "                n_iter=10000, patch_size=(28,28), alpha_homeo = 0.02,\n",
    "                n_dictionary=900, record_each=50,l0_sparseness=15)\n",
    "dico_Comp4 = shl_Comp4.learn_dico(data=training_image,matname='2017-04-28 MNIST_COMP900_dico_l0=15_iter=1000',list_figures=list_figures)\n",
    "\n",
    "shl_MP4 = SHL(DEBUG_DOWNSCALE=1, \n",
    "                eta=0.01, eta_homeo=0, verbose=0,\n",
    "                n_iter=10000, patch_size=(28,28), alpha_homeo = 0,\n",
    "                n_dictionary=900, record_each=50,l0_sparseness=15)\n",
    "dico_MP4 = shl_MP4.learn_dico(data=training_image,matname='2017-04-28 MNIST_MP 900dico_l0=15_iter=10000',list_figures=list_figures)"
   ]
  },
  {
   "cell_type": "code",
   "execution_count": null,
   "metadata": {
    "collapsed": true
   },
   "outputs": [],
   "source": [
    "index=np.arange(0,10000,50)\n",
    "df4=pd.DataFrame()\n",
    "df4['MEUL']=dico_Pcum4.record['error']\n",
    "df4['SN']=dico_Comp4.record['error']\n",
    "df4['MP']=dico_MP4.record['error']\n",
    "\n",
    "a=df4.plot()\n",
    "a.set_ylim(0)\n",
    "#error4=pd.DataFrame(df4,index=index)\n",
    "#error4.plot()"
   ]
  },
  {
   "cell_type": "markdown",
   "metadata": {},
   "source": [
    "### Explication of the 'bump'"
   ]
  },
  {
   "cell_type": "markdown",
   "metadata": {},
   "source": [
    "Let's overlay 3 reconstruction error's curve. Those 3 curves have the same number of dictionary (900), but differ in sparsess"
   ]
  },
  {
   "cell_type": "code",
   "execution_count": null,
   "metadata": {
    "collapsed": true
   },
   "outputs": [],
   "source": [
    "shl_Pcum_l0_15 = SHL(DEBUG_DOWNSCALE=1, \n",
    "                eta=0.01, eta_homeo=0.01, verbose=0,\n",
    "                n_iter=10000, patch_size=(28,28), alpha_homeo = 0,\n",
    "                n_dictionary=900, record_each=50,l0_sparseness=15)\n",
    "dico_Pcum_l0_15 = shl_Pcum_l0_15.learn_dico(data=training_image,matname='2017-04-28 MNIST_Pcum_900dico_l0=15_iter=10000')\n",
    "\n",
    "shl_Pcum_l0_50 = SHL(DEBUG_DOWNSCALE=1, \n",
    "                eta=0.01, eta_homeo=0.01, verbose=0,\n",
    "                n_iter=10000, patch_size=(28,28), alpha_homeo = 0,\n",
    "                n_dictionary=900, record_each=50,l0_sparseness=50)\n",
    "dico_Pcum_l0_50 = shl_Pcum_l0_50.learn_dico(data=training_image,matname='2017-04-28 MNIST_Pcum_900dico_l0=50_iter=10000')\n",
    "\n",
    "shl_Pcum_l0_90 = SHL(DEBUG_DOWNSCALE=1, \n",
    "                eta=0.01, eta_homeo=0.01, verbose=0,\n",
    "                n_iter=10000, patch_size=(28,28), alpha_homeo = 0,\n",
    "                n_dictionary=900, record_each=50,l0_sparseness=90)\n",
    "dico_Pcum_l0_90 = shl_Pcum_l0_90.learn_dico(data=training_image,matname='2017-04-28 MNIST_Pcum_900dico_l0=90_iter=10000')"
   ]
  },
  {
   "cell_type": "code",
   "execution_count": null,
   "metadata": {
    "collapsed": true
   },
   "outputs": [],
   "source": [
    "index=np.arange(0,10000,50)\n",
    "df5=pd.DataFrame()\n",
    "df5['MEUL l0=15']=dico_Pcum_l0_15.record['error']\n",
    "df5['MEUL l0=50']=dico_Pcum_l0_50.record['error']\n",
    "df5['MEUL l0=90']=dico_Pcum_l0_90.record['error']\n",
    "\n",
    "a=df5.plot()\n",
    "a.set_ylim(0)"
   ]
  },
  {
   "cell_type": "code",
   "execution_count": null,
   "metadata": {
    "collapsed": true
   },
   "outputs": [],
   "source": [
    "index=np.arange(0,10000,50)\n",
    "df6=pd.DataFrame()\n",
    "df6['MEUL l0=15']=dico_Pcum_l0_15.record['entropy']\n",
    "df6['MEUL l0=50']=dico_Pcum_l0_50.record['entropy']\n",
    "df6['MEUL l0=90']=dico_Pcum_l0_90.record['entropy']\n",
    "\n",
    "a=df6.plot()\n",
    "a.set_ylim(0.98)"
   ]
  },
  {
   "cell_type": "code",
   "execution_count": null,
   "metadata": {
    "collapsed": true
   },
   "outputs": [],
   "source": [
    "shl_Pcum_l0_15_etah_01 = SHL(DEBUG_DOWNSCALE=1, \n",
    "                eta=0.01, eta_homeo=0.01, verbose=0,\n",
    "                n_iter=10000, patch_size=(28,28), alpha_homeo = 0,\n",
    "                n_dictionary=900, record_each=50,l0_sparseness=15)\n",
    "dico_Pcum_l0_15_etah_01 = shl_Pcum_l0_15_etah_01.learn_dico(data=training_image,matname='2017-04-28 MNIST_Pcum_900dico_l0=15_iter=10000')\n",
    "\n",
    "shl_Pcum_l0_15_etah_02b = SHL(DEBUG_DOWNSCALE=1, \n",
    "                eta=0.02, eta_homeo=0.02, verbose=0,\n",
    "                n_iter=10000, patch_size=(28,28), alpha_homeo = 0,\n",
    "                n_dictionary=900, record_each=50,l0_sparseness=15)\n",
    "dico_Pcum_l0_15_etah_02b = shl_Pcum_l0_15_etah_02b.learn_dico(data=training_image,matname='2017-04-28 MNIST_Pcum_900dico_l0=15_iter=10000_etah_0.02')\n",
    "\n",
    "shl_Pcum_l0_15_etah_02 = SHL(DEBUG_DOWNSCALE=1, \n",
    "                eta=0.01, eta_homeo=0.02, verbose=0,\n",
    "                n_iter=10000, patch_size=(28,28), alpha_homeo = 0,\n",
    "                n_dictionary=900, record_each=50,l0_sparseness=15)\n",
    "dico_Pcum_l0_15_etah_02 = shl_Pcum_l0_15_etah_02.learn_dico(data=training_image,matname='2017-04-28 MNIST_Pcum_900dico_l0=15_iter=10000_etah_0.02b')\n",
    "\n",
    "shl_Pcum_l0_15_etah_03 = SHL(DEBUG_DOWNSCALE=1, \n",
    "                eta=0.01, eta_homeo=0.03, verbose=0,\n",
    "                n_iter=10000, patch_size=(28,28), alpha_homeo = 0,\n",
    "                n_dictionary=900, record_each=50,l0_sparseness=15)\n",
    "dico_Pcum_l0_15_etah_03 = shl_Pcum_l0_15_etah_03.learn_dico(data=training_image,matname='2017-04-28 MNIST_Pcum_900dico_l0=15_iter=10000_etah_0.03')\n",
    "\n"
   ]
  },
  {
   "cell_type": "code",
   "execution_count": null,
   "metadata": {
    "collapsed": true
   },
   "outputs": [],
   "source": [
    "index=np.arange(0,10000,50)\n",
    "df7=pd.DataFrame()\n",
    "df7['MEUL l0=15 eta_homeo=0.01']=dico_Pcum_l0_15_etah_01.record['error']\n",
    "#df7['MEUL l0=15 eta_homeo=0.02 eta=0.02']=dico_Pcum_l0_15_etah_02b.record['error']\n",
    "df7['MEUL l0=15 eta_homeo=0.02 eta=0.01']=dico_Pcum_l0_15_etah_02.record['error']\n",
    "df7['MEUL l0=15 eta_homeo=0.03 eta=0.01']=dico_Pcum_l0_15_etah_03.record['error']\n",
    "a=df7.plot()\n",
    "a.set_ylim(0)"
   ]
  },
  {
   "cell_type": "code",
   "execution_count": null,
   "metadata": {
    "collapsed": true
   },
   "outputs": [],
   "source": [
    "index=np.arange(0,10000,50)\n",
    "df7=pd.DataFrame()\n",
    "df7['MEUL l0=15 eta_homeo=0.01']=dico_Pcum_l0_15_etah_01.record['entropy']\n",
    "#df7['MEUL l0=15 eta_homeo=0.02 eta=0.02']=dico_Pcum_l0_15_etah_02b.record['error']\n",
    "df7['MEUL l0=15 eta_homeo=0.02 eta=0.01']=dico_Pcum_l0_15_etah_02.record['entropy']\n",
    "df7['MEUL l0=15 eta_homeo=0.03 eta=0.01']=dico_Pcum_l0_15_etah_03.record['entropy']\n",
    "a=df7.plot()\n",
    "a.set_ylim(0.98)"
   ]
  },
  {
   "cell_type": "code",
   "execution_count": null,
   "metadata": {
    "collapsed": true
   },
   "outputs": [],
   "source": []
  }
 ],
 "metadata": {
  "kernelspec": {
   "display_name": "Python 3",
   "language": "python",
   "name": "python3"
  },
  "language_info": {
   "codemirror_mode": {
    "name": "ipython",
    "version": 3
   },
   "file_extension": ".py",
   "mimetype": "text/x-python",
   "name": "python",
   "nbconvert_exporter": "python",
   "pygments_lexer": "ipython3",
   "version": "3.6.1"
  }
 },
 "nbformat": 4,
 "nbformat_minor": 2
}
