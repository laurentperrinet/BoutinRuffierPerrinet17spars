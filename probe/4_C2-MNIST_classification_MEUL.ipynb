{
 "cells": [
  {
   "cell_type": "code",
   "execution_count": 1,
   "metadata": {
    "collapsed": false,
    "deletable": true,
    "editable": true
   },
   "outputs": [],
   "source": [
    "%load_ext autoreload\n",
    "%autoreload 2\n",
    "\n",
    "import matplotlib.pyplot as plt\n",
    "%matplotlib inline\n",
    "#%config InlineBackend.figure_format='svg'\n",
    "\n",
    "import numpy as np\n",
    "np.set_printoptions(precision=6, suppress=True)\n",
    "np.set_printoptions(threshold=np.inf)\n",
    "\n",
    "from shl_scripts.shl_experiments import SHL\n",
    "from classification import SparseClassif\n"
   ]
  },
  {
   "cell_type": "code",
   "execution_count": 2,
   "metadata": {
    "collapsed": true,
    "deletable": true,
    "editable": true
   },
   "outputs": [],
   "source": [
    "tag ='2017-06-01_MNIST_MEUL_DEBUG_'\n",
    "DEBUG_DOWNSCALE, verbose = 10, 10\n",
    "tag ='2017-06-01_MNIST_MEUL_'\n",
    "\n",
    "DEBUG_DOWNSCALE, verbose = 1, 10\n",
    "patch_size = (28,28)\n",
    "n_dictionary = 15**2\n",
    "l0_sparseness = 7\n",
    "n_iter = 2**14\n",
    "eta = 0.01\n",
    "eta_homeo = 0.01\n",
    "verbose = 0\n",
    "list_figures=[]#['show_dico']\n",
    "n_hidden = 100"
   ]
  },
  {
   "cell_type": "code",
   "execution_count": 3,
   "metadata": {
    "collapsed": false,
    "deletable": true,
    "editable": true
   },
   "outputs": [],
   "source": [
    "shl = SHL(DEBUG_DOWNSCALE=DEBUG_DOWNSCALE, \n",
    "            eta=eta, eta_homeo=eta_homeo, verbose=verbose,\n",
    "            n_iter=n_iter, patch_size=patch_size, l0_sparseness=l0_sparseness,\n",
    "            n_dictionary=n_dictionary)\n",
    "matname = tag\n",
    "\n",
    "sc = SparseClassif(shl, matname)\n",
    "sc.dico = shl.learn_dico(data=sc.training_image, matname=matname, list_figures=list_figures)    "
   ]
  },
  {
   "cell_type": "code",
   "execution_count": 4,
   "metadata": {
    "collapsed": false,
    "deletable": true,
    "editable": true
   },
   "outputs": [
    {
     "data": {
      "text/plain": [
       "<zip at 0x113707cc8>"
      ]
     },
     "execution_count": 4,
     "metadata": {},
     "output_type": "execute_result"
    }
   ],
   "source": [
    "wrapped_training_data, wrapped_test_data_final, n_test = sc.format_data()\n",
    "(wrapped_test_data_final)"
   ]
  },
  {
   "cell_type": "code",
   "execution_count": 5,
   "metadata": {
    "collapsed": false,
    "deletable": true,
    "editable": true
   },
   "outputs": [
    {
     "data": {
      "text/plain": [
       "array([ 16,  32,  64, 128])"
      ]
     },
     "execution_count": 5,
     "metadata": {},
     "output_type": "execute_result"
    }
   ],
   "source": [
    "2**np.arange(4, 8)"
   ]
  },
  {
   "cell_type": "raw",
   "metadata": {
    "collapsed": true,
    "deletable": true,
    "editable": true
   },
   "source": [
    "wrapped_training_data, wrapped_test_data_final, n_test = sc.format_data()\n",
    "\n",
    "net=network.Network([shl.n_dictionary, n_hidden, 10])\n",
    "net.SGD(training_data=wrapped_training_data,\n",
    "   epochs=30,\n",
    "   mini_batch_size=10,\n",
    "   eta=.3, test_data=wrapped_test_data_final)"
   ]
  },
  {
   "cell_type": "code",
   "execution_count": 6,
   "metadata": {
    "collapsed": true,
    "deletable": true,
    "editable": true
   },
   "outputs": [],
   "source": [
    "sc.learn()"
   ]
  },
  {
   "cell_type": "code",
   "execution_count": 7,
   "metadata": {
    "collapsed": false,
    "deletable": true,
    "editable": true
   },
   "outputs": [
    {
     "name": "stdout",
     "output_type": "stream",
     "text": [
      "Result =  0.01988\n"
     ]
    }
   ],
   "source": [
    "print( 'Result = ', sc.result() )"
   ]
  },
  {
   "cell_type": "raw",
   "metadata": {
    "deletable": true,
    "editable": true
   },
   "source": [
    "net.evaluate(wrapped_test_data_final), len(wrapped_test_inputs)"
   ]
  },
  {
   "cell_type": "code",
   "execution_count": 8,
   "metadata": {
    "collapsed": false,
    "deletable": true,
    "editable": true
   },
   "outputs": [
    {
     "name": "stdout",
     "output_type": "stream",
     "text": [
      " ----- learning with eta_ : 0.1 -----\n",
      " ----- learning with eta_ : 0.1778279410038923 -----\n",
      " ----- learning with eta_ : 0.31622776601683794 -----\n",
      " ----- learning with eta_ : 0.5623413251903491 -----\n",
      " ----- learning with eta_ : 1.0 -----\n",
      " ----- learning with eta_ : 1.7782794100389228 -----\n",
      " ----- learning with eta_ : 3.1622776601683795 -----\n",
      " ----- learning with eta_ : 5.623413251903491 -----\n",
      " ----- learning with eta_ : 10.0 -----\n"
     ]
    },
    {
     "data": {
      "text/plain": [
       "[<matplotlib.lines.Line2D at 0x11449acc0>]"
      ]
     },
     "execution_count": 8,
     "metadata": {},
     "output_type": "execute_result"
    },
    {
     "data": {
      "image/png": "[encoded data removed]",
      "text/plain": [
       "<matplotlib.figure.Figure at 0x114fdb6a0>"
      ]
     },
     "metadata": {},
     "output_type": "display_data"
    }
   ],
   "source": [
    "etas = np.logspace(-1, 1, 9, base=10)\n",
    "\n",
    "results = []\n",
    "for eta_ in etas:\n",
    "    print(\" ----- learning with eta_ : {} -----\".format(eta_))\n",
    "    sc = SparseClassif(shl, matname, eta=eta_)\n",
    "    sc.dico = shl.learn_dico(data=sc.training_image, matname=matname, list_figures=list_figures)    \n",
    "    sc.learn()\n",
    "    results.append(sc.result())\n",
    "\n",
    "fig = plt.figure(figsize=(6, 4))\n",
    "ax = fig.add_subplot(111)\n",
    "ax.plot(etas, results)"
   ]
  },
  {
   "cell_type": "code",
   "execution_count": 9,
   "metadata": {
    "collapsed": false,
    "deletable": true,
    "editable": true,
    "scrolled": false
   },
   "outputs": [
    {
     "name": "stdout",
     "output_type": "stream",
     "text": [
      " ----- learning with n_hidden : 16 -----\n",
      " ----- learning with n_hidden : 32 -----\n",
      " ----- learning with n_hidden : 64 -----\n",
      " ----- learning with n_hidden : 128 -----\n"
     ]
    },
    {
     "data": {
      "text/plain": [
       "[<matplotlib.lines.Line2D at 0x114d6cc88>]"
      ]
     },
     "execution_count": 9,
     "metadata": {},
     "output_type": "execute_result"
    },
    {
     "data": {
      "image/png": "[encoded data removed]",
      "text/plain": [
       "<matplotlib.figure.Figure at 0x115166b00>"
      ]
     },
     "metadata": {},
     "output_type": "display_data"
    }
   ],
   "source": [
    "n_hiddens = 2**np.arange(4, 8)\n",
    "results = []\n",
    "for n_hidden_ in n_hiddens:\n",
    "    print(\" ----- learning with n_hidden : {} -----\".format(n_hidden_))\n",
    "    sc = SparseClassif(shl, matname, n_hidden=n_hidden_)\n",
    "    sc.dico = shl.learn_dico(data=sc.training_image, matname=matname, list_figures=list_figures)    \n",
    "    sc.learn()\n",
    "    results.append(sc.result())\n",
    "\n",
    "fig = plt.figure(figsize=(6, 4))\n",
    "ax = fig.add_subplot(111)\n",
    "ax.plot(n_hiddens, results)"
   ]
  },
  {
   "cell_type": "code",
   "execution_count": 10,
   "metadata": {
    "collapsed": false,
    "deletable": true,
    "editable": true
   },
   "outputs": [
    {
     "name": "stdout",
     "output_type": "stream",
     "text": [
      " ----- learning with mini_batch_size : 16 -----\n",
      " ----- learning with mini_batch_size : 32 -----\n",
      " ----- learning with mini_batch_size : 64 -----\n",
      " ----- learning with mini_batch_size : 128 -----\n"
     ]
    },
    {
     "data": {
      "text/plain": [
       "[<matplotlib.lines.Line2D at 0x11530be10>]"
      ]
     },
     "execution_count": 10,
     "metadata": {},
     "output_type": "execute_result"
    },
    {
     "data": {
      "image/png": "[encoded data removed]",
      "text/plain": [
       "<matplotlib.figure.Figure at 0x115143da0>"
      ]
     },
     "metadata": {},
     "output_type": "display_data"
    }
   ],
   "source": [
    "mini_batch_sizes = 2**np.arange(4, 8)\n",
    "results = []\n",
    "for mini_batch_size_ in mini_batch_sizes:\n",
    "    print(\" ----- learning with mini_batch_size : {} -----\".format(mini_batch_size_))\n",
    "    sc = SparseClassif(shl, matname, mini_batch_size=mini_batch_size_)\n",
    "    sc.dico = shl.learn_dico(data=sc.training_image, matname=matname, list_figures=list_figures)    \n",
    "    sc.learn()\n",
    "    results.append(sc.result())\n",
    "\n",
    "plt.plot(mini_batch_sizes, results)"
   ]
  },
  {
   "cell_type": "code",
   "execution_count": 11,
   "metadata": {
    "collapsed": false,
    "deletable": true,
    "editable": true,
    "scrolled": false
   },
   "outputs": [
    {
     "name": "stdout",
     "output_type": "stream",
     "text": [
      " ----- learning with epochs : 16 -----\n",
      " ----- learning with epochs : 32 -----\n",
      " ----- learning with epochs : 64 -----\n",
      " ----- learning with epochs : 128 -----\n"
     ]
    },
    {
     "data": {
      "text/plain": [
       "[<matplotlib.lines.Line2D at 0x114ae11d0>]"
      ]
     },
     "execution_count": 11,
     "metadata": {},
     "output_type": "execute_result"
    },
    {
     "data": {
      "image/png": "[encoded data removed]",
      "text/plain": [
       "<matplotlib.figure.Figure at 0x115331ac8>"
      ]
     },
     "metadata": {},
     "output_type": "display_data"
    }
   ],
   "source": [
    "epochss = 2**np.arange(4, 8)\n",
    "results = []\n",
    "for epochs_ in epochss:\n",
    "    print(\" ----- learning with epochs : {} -----\".format(epochs_))\n",
    "    sc = SparseClassif(shl, matname, epochs=epochs_)\n",
    "    sc.dico = shl.learn_dico(data=sc.training_image, matname=matname, list_figures=list_figures)    \n",
    "    sc.learn()\n",
    "    results.append(sc.result())\n",
    "\n",
    "plt.plot(epochss, results)"
   ]
  },
  {
   "cell_type": "code",
   "execution_count": 12,
   "metadata": {
    "collapsed": false,
    "deletable": true,
    "editable": true
   },
   "outputs": [
    {
     "data": {
      "text/plain": [
       "[0.01998, 0.01988, 0.02006, 0.02]"
      ]
     },
     "execution_count": 12,
     "metadata": {},
     "output_type": "execute_result"
    }
   ],
   "source": [
    "results\n"
   ]
  }
 ],
 "metadata": {
  "kernelspec": {
   "display_name": "Python 3",
   "language": "python",
   "name": "python3"
  },
  "language_info": {
   "codemirror_mode": {
    "name": "ipython",
    "version": 3
   },
   "file_extension": ".py",
   "mimetype": "text/x-python",
   "name": "python",
   "nbconvert_exporter": "python",
   "pygments_lexer": "ipython3",
   "version": "3.6.1"
  }
 },
 "nbformat": 4,
 "nbformat_minor": 2
}
